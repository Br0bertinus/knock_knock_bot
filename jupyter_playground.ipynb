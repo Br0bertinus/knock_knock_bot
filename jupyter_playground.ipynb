{
 "cells": [
  {
   "cell_type": "code",
   "execution_count": 27,
   "metadata": {},
   "outputs": [],
   "source": [
    "import nltk\n",
    "import cmudict\n",
    "import syllables\n"
   ]
  },
  {
   "cell_type": "code",
   "execution_count": 28,
   "metadata": {},
   "outputs": [
    {
     "name": "stdout",
     "output_type": "stream",
     "text": [
      "hɛˈloʊ wərld\n"
     ]
    }
   ],
   "source": [
    "hello = eng_to_ipa.convert(\"Hello World\")\n",
    "print(hello)"
   ]
  },
  {
   "cell_type": "code",
   "execution_count": 29,
   "metadata": {},
   "outputs": [],
   "source": [
    "class Entry():\n",
    "    def __init__(self):\n",
    "        self.word = str\n",
    "        self.phonemes = list\n",
    "        self.syllables = int\n",
    "        self.frequency = int\n",
    "    \n"
   ]
  },
  {
   "cell_type": "code",
   "execution_count": 42,
   "metadata": {},
   "outputs": [],
   "source": [
    "def new_entry(word, phonemes):\n",
    "    entry = Entry()\n",
    "    entry.word = word\n",
    "    entry.phonemes = phonemes\n",
    "    entry.syllables = syllables.estimate(word)\n",
    "    return entry.__dict__"
   ]
  },
  {
   "cell_type": "code",
   "execution_count": 43,
   "metadata": {},
   "outputs": [],
   "source": [
    "cmu_words = cmudict.entries()\n",
    "\n",
    "corpus = [new_entry(cmu_word[0], cmu_word[1]) for cmu_word in cmu_words]\n",
    "\n",
    "\n"
   ]
  },
  {
   "cell_type": "code",
   "execution_count": 44,
   "metadata": {},
   "outputs": [
    {
     "name": "stdout",
     "output_type": "stream",
     "text": [
      "[{'word': \"'bout\", 'phonemes': ['B', 'AW1', 'T'], 'syllables': 1, 'frequency': <class 'int'>}, {'word': \"'cause\", 'phonemes': ['K', 'AH0', 'Z'], 'syllables': 2, 'frequency': <class 'int'>}, {'word': \"'course\", 'phonemes': ['K', 'AO1', 'R', 'S'], 'syllables': 2, 'frequency': <class 'int'>}, {'word': \"'cuse\", 'phonemes': ['K', 'Y', 'UW1', 'Z'], 'syllables': 2, 'frequency': <class 'int'>}, {'word': \"'em\", 'phonemes': ['AH0', 'M'], 'syllables': 1, 'frequency': <class 'int'>}, {'word': \"'frisco\", 'phonemes': ['F', 'R', 'IH1', 'S', 'K', 'OW0'], 'syllables': 2, 'frequency': <class 'int'>}, {'word': \"'gain\", 'phonemes': ['G', 'EH1', 'N'], 'syllables': 1, 'frequency': <class 'int'>}, {'word': \"'kay\", 'phonemes': ['K', 'EY1'], 'syllables': 1, 'frequency': <class 'int'>}, {'word': \"'m\", 'phonemes': ['AH0', 'M'], 'syllables': 1, 'frequency': <class 'int'>}, {'word': \"'n\", 'phonemes': ['AH0', 'N'], 'syllables': 1, 'frequency': <class 'int'>}, {'word': \"'round\", 'phonemes': ['R', 'AW1', 'N', 'D'], 'syllables': 1, 'frequency': <class 'int'>}, {'word': \"'s\", 'phonemes': ['EH1', 'S'], 'syllables': 1, 'frequency': <class 'int'>}, {'word': \"'til\", 'phonemes': ['T', 'IH1', 'L'], 'syllables': 1, 'frequency': <class 'int'>}, {'word': \"'tis\", 'phonemes': ['T', 'IH1', 'Z'], 'syllables': 1, 'frequency': <class 'int'>}, {'word': \"'twas\", 'phonemes': ['T', 'W', 'AH1', 'Z'], 'syllables': 1, 'frequency': <class 'int'>}, {'word': 'a', 'phonemes': ['AH0'], 'syllables': 1, 'frequency': <class 'int'>}, {'word': 'a', 'phonemes': ['EY1'], 'syllables': 1, 'frequency': <class 'int'>}, {'word': \"a's\", 'phonemes': ['EY1', 'Z'], 'syllables': 1, 'frequency': <class 'int'>}, {'word': 'a.', 'phonemes': ['EY1'], 'syllables': 1, 'frequency': <class 'int'>}, {'word': \"a.'s\", 'phonemes': ['EY1', 'Z'], 'syllables': 1, 'frequency': <class 'int'>}, {'word': 'a.d.', 'phonemes': ['EY2', 'D', 'IY1'], 'syllables': 1, 'frequency': <class 'int'>}, {'word': 'a.m.', 'phonemes': ['EY2', 'EH1', 'M'], 'syllables': 1, 'frequency': <class 'int'>}, {'word': 'a.s', 'phonemes': ['EY1', 'Z'], 'syllables': 1, 'frequency': <class 'int'>}, {'word': 'aaa', 'phonemes': ['T', 'R', 'IH2', 'P', 'AH0', 'L', 'EY1'], 'syllables': 2, 'frequency': <class 'int'>}, {'word': 'aaberg', 'phonemes': ['AA1', 'B', 'ER0', 'G'], 'syllables': 2, 'frequency': <class 'int'>}, {'word': 'aachen', 'phonemes': ['AA1', 'K', 'AH0', 'N'], 'syllables': 2, 'frequency': <class 'int'>}, {'word': 'aachener', 'phonemes': ['AA1', 'K', 'AH0', 'N', 'ER0'], 'syllables': 3, 'frequency': <class 'int'>}, {'word': 'aaker', 'phonemes': ['AA1', 'K', 'ER0'], 'syllables': 2, 'frequency': <class 'int'>}, {'word': 'aalborg', 'phonemes': ['AO1', 'L', 'B', 'AO0', 'R', 'G'], 'syllables': 2, 'frequency': <class 'int'>}, {'word': 'aalborg', 'phonemes': ['AA1', 'L', 'B', 'AO0', 'R', 'G'], 'syllables': 2, 'frequency': <class 'int'>}, {'word': 'aalburg', 'phonemes': ['AE1', 'L', 'B', 'ER0', 'G'], 'syllables': 2, 'frequency': <class 'int'>}, {'word': 'aalen', 'phonemes': ['AE1', 'L', 'AH0', 'N'], 'syllables': 2, 'frequency': <class 'int'>}, {'word': 'aalen', 'phonemes': ['AA1', 'L', 'AH0', 'N'], 'syllables': 2, 'frequency': <class 'int'>}, {'word': 'aaliyah', 'phonemes': ['AA2', 'L', 'IY1', 'AA2'], 'syllables': 2, 'frequency': <class 'int'>}, {'word': 'aalseth', 'phonemes': ['AA1', 'L', 'S', 'EH0', 'TH'], 'syllables': 2, 'frequency': <class 'int'>}, {'word': 'aalsmeer', 'phonemes': ['AA1', 'L', 'S', 'M', 'IH0', 'R'], 'syllables': 2, 'frequency': <class 'int'>}, {'word': 'aalto', 'phonemes': ['AA1', 'L', 'T', 'OW2'], 'syllables': 2, 'frequency': <class 'int'>}, {'word': 'aamodt', 'phonemes': ['AA1', 'M', 'AH0', 'T'], 'syllables': 2, 'frequency': <class 'int'>}, {'word': 'aancor', 'phonemes': ['AA1', 'N', 'K', 'AO2', 'R'], 'syllables': 2, 'frequency': <class 'int'>}, {'word': 'aardema', 'phonemes': ['AA0', 'R', 'D', 'EH1', 'M', 'AH0'], 'syllables': 3, 'frequency': <class 'int'>}, {'word': 'aardvark', 'phonemes': ['AA1', 'R', 'D', 'V', 'AA2', 'R', 'K'], 'syllables': 2, 'frequency': <class 'int'>}, {'word': 'aardvarks', 'phonemes': ['AA1', 'R', 'D', 'V', 'AA2', 'R', 'K', 'S'], 'syllables': 2, 'frequency': <class 'int'>}, {'word': 'aargh', 'phonemes': ['AA1', 'R', 'G'], 'syllables': 1, 'frequency': <class 'int'>}, {'word': 'aarhus', 'phonemes': ['AA2', 'HH', 'UW1', 'S'], 'syllables': 2, 'frequency': <class 'int'>}, {'word': 'aaron', 'phonemes': ['EH1', 'R', 'AH0', 'N'], 'syllables': 2, 'frequency': <class 'int'>}, {'word': \"aaron's\", 'phonemes': ['EH1', 'R', 'AH0', 'N', 'Z'], 'syllables': 2, 'frequency': <class 'int'>}, {'word': 'aarons', 'phonemes': ['EH1', 'R', 'AH0', 'N', 'Z'], 'syllables': 2, 'frequency': <class 'int'>}, {'word': 'aaronson', 'phonemes': ['EH1', 'R', 'AH0', 'N', 'S', 'AH0', 'N'], 'syllables': 3, 'frequency': <class 'int'>}, {'word': 'aaronson', 'phonemes': ['AA1', 'R', 'AH0', 'N', 'S', 'AH0', 'N'], 'syllables': 3, 'frequency': <class 'int'>}, {'word': \"aaronson's\", 'phonemes': ['EH1', 'R', 'AH0', 'N', 'S', 'AH0', 'N', 'Z'], 'syllables': 3, 'frequency': <class 'int'>}, {'word': \"aaronson's\", 'phonemes': ['AA1', 'R', 'AH0', 'N', 'S', 'AH0', 'N', 'Z'], 'syllables': 3, 'frequency': <class 'int'>}, {'word': 'aarti', 'phonemes': ['AA1', 'R', 'T', 'IY2'], 'syllables': 2, 'frequency': <class 'int'>}, {'word': 'aase', 'phonemes': ['AA1', 'S'], 'syllables': 1, 'frequency': <class 'int'>}, {'word': 'aasen', 'phonemes': ['AA1', 'S', 'AH0', 'N'], 'syllables': 2, 'frequency': <class 'int'>}, {'word': 'ab', 'phonemes': ['AE1', 'B'], 'syllables': 1, 'frequency': <class 'int'>}, {'word': 'ab', 'phonemes': ['EY1', 'B', 'IY1'], 'syllables': 1, 'frequency': <class 'int'>}, {'word': 'aba', 'phonemes': ['EY2', 'B', 'IY2', 'EY1'], 'syllables': 2, 'frequency': <class 'int'>}, {'word': 'ababa', 'phonemes': ['AH0', 'B', 'AA1', 'B', 'AH0'], 'syllables': 3, 'frequency': <class 'int'>}, {'word': 'ababa', 'phonemes': ['AA1', 'B', 'AH0', 'B', 'AH0'], 'syllables': 3, 'frequency': <class 'int'>}, {'word': 'abacha', 'phonemes': ['AE1', 'B', 'AH0', 'K', 'AH0'], 'syllables': 3, 'frequency': <class 'int'>}, {'word': 'aback', 'phonemes': ['AH0', 'B', 'AE1', 'K'], 'syllables': 2, 'frequency': <class 'int'>}, {'word': 'abaco', 'phonemes': ['AE1', 'B', 'AH0', 'K', 'OW2'], 'syllables': 3, 'frequency': <class 'int'>}, {'word': 'abacus', 'phonemes': ['AE1', 'B', 'AH0', 'K', 'AH0', 'S'], 'syllables': 3, 'frequency': <class 'int'>}, {'word': 'abad', 'phonemes': ['AH0', 'B', 'AA1', 'D'], 'syllables': 2, 'frequency': <class 'int'>}, {'word': 'abadaka', 'phonemes': ['AH0', 'B', 'AE1', 'D', 'AH0', 'K', 'AH0'], 'syllables': 4, 'frequency': <class 'int'>}, {'word': 'abadi', 'phonemes': ['AH0', 'B', 'AE1', 'D', 'IY0'], 'syllables': 3, 'frequency': <class 'int'>}, {'word': 'abadie', 'phonemes': ['AH0', 'B', 'AE1', 'D', 'IY0'], 'syllables': 3, 'frequency': <class 'int'>}, {'word': 'abair', 'phonemes': ['AH0', 'B', 'EH1', 'R'], 'syllables': 2, 'frequency': <class 'int'>}, {'word': 'abalkin', 'phonemes': ['AH0', 'B', 'AA1', 'L', 'K', 'IH0', 'N'], 'syllables': 3, 'frequency': <class 'int'>}, {'word': 'abalone', 'phonemes': ['AE2', 'B', 'AH0', 'L', 'OW1', 'N', 'IY0'], 'syllables': 4, 'frequency': <class 'int'>}, {'word': 'abalones', 'phonemes': ['AE2', 'B', 'AH0', 'L', 'OW1', 'N', 'IY0', 'Z'], 'syllables': 4, 'frequency': <class 'int'>}, {'word': 'abalos', 'phonemes': ['AA0', 'B', 'AA1', 'L', 'OW0', 'Z'], 'syllables': 3, 'frequency': <class 'int'>}, {'word': 'abandon', 'phonemes': ['AH0', 'B', 'AE1', 'N', 'D', 'AH0', 'N'], 'syllables': 3, 'frequency': <class 'int'>}, {'word': 'abandoned', 'phonemes': ['AH0', 'B', 'AE1', 'N', 'D', 'AH0', 'N', 'D'], 'syllables': 4, 'frequency': <class 'int'>}, {'word': 'abandoning', 'phonemes': ['AH0', 'B', 'AE1', 'N', 'D', 'AH0', 'N', 'IH0', 'NG'], 'syllables': 4, 'frequency': <class 'int'>}, {'word': 'abandonment', 'phonemes': ['AH0', 'B', 'AE1', 'N', 'D', 'AH0', 'N', 'M', 'AH0', 'N', 'T'], 'syllables': 4, 'frequency': <class 'int'>}, {'word': 'abandonments', 'phonemes': ['AH0', 'B', 'AE1', 'N', 'D', 'AH0', 'N', 'M', 'AH0', 'N', 'T', 'S'], 'syllables': 4, 'frequency': <class 'int'>}, {'word': 'abandons', 'phonemes': ['AH0', 'B', 'AE1', 'N', 'D', 'AH0', 'N', 'Z'], 'syllables': 3, 'frequency': <class 'int'>}, {'word': 'abanto', 'phonemes': ['AH0', 'B', 'AE1', 'N', 'T', 'OW0'], 'syllables': 3, 'frequency': <class 'int'>}, {'word': 'abarca', 'phonemes': ['AH0', 'B', 'AA1', 'R', 'K', 'AH0'], 'syllables': 3, 'frequency': <class 'int'>}, {'word': 'abare', 'phonemes': ['AA0', 'B', 'AA1', 'R', 'IY0'], 'syllables': 3, 'frequency': <class 'int'>}, {'word': 'abascal', 'phonemes': ['AE1', 'B', 'AH0', 'S', 'K', 'AH0', 'L'], 'syllables': 3, 'frequency': <class 'int'>}, {'word': 'abash', 'phonemes': ['AH0', 'B', 'AE1', 'SH'], 'syllables': 2, 'frequency': <class 'int'>}, {'word': 'abashed', 'phonemes': ['AH0', 'B', 'AE1', 'SH', 'T'], 'syllables': 3, 'frequency': <class 'int'>}, {'word': 'abasia', 'phonemes': ['AH0', 'B', 'EY1', 'ZH', 'Y', 'AH0'], 'syllables': 3, 'frequency': <class 'int'>}, {'word': 'abate', 'phonemes': ['AH0', 'B', 'EY1', 'T'], 'syllables': 3, 'frequency': <class 'int'>}, {'word': 'abated', 'phonemes': ['AH0', 'B', 'EY1', 'T', 'IH0', 'D'], 'syllables': 3, 'frequency': <class 'int'>}, {'word': 'abatement', 'phonemes': ['AH0', 'B', 'EY1', 'T', 'M', 'AH0', 'N', 'T'], 'syllables': 4, 'frequency': <class 'int'>}, {'word': 'abatements', 'phonemes': ['AH0', 'B', 'EY1', 'T', 'M', 'AH0', 'N', 'T', 'S'], 'syllables': 4, 'frequency': <class 'int'>}, {'word': 'abates', 'phonemes': ['AH0', 'B', 'EY1', 'T', 'S'], 'syllables': 3, 'frequency': <class 'int'>}, {'word': 'abating', 'phonemes': ['AH0', 'B', 'EY1', 'T', 'IH0', 'NG'], 'syllables': 3, 'frequency': <class 'int'>}, {'word': 'abattoir', 'phonemes': ['AE2', 'B', 'AH0', 'T', 'W', 'AA1', 'R'], 'syllables': 3, 'frequency': <class 'int'>}, {'word': 'abba', 'phonemes': ['AE1', 'B', 'AH0'], 'syllables': 2, 'frequency': <class 'int'>}, {'word': 'abbado', 'phonemes': ['AH0', 'B', 'AA1', 'D', 'OW0'], 'syllables': 3, 'frequency': <class 'int'>}, {'word': 'abbas', 'phonemes': ['AH0', 'B', 'AA1', 'S'], 'syllables': 2, 'frequency': <class 'int'>}, {'word': 'abbasi', 'phonemes': ['AA0', 'B', 'AA1', 'S', 'IY0'], 'syllables': 3, 'frequency': <class 'int'>}, {'word': 'abbate', 'phonemes': ['AA1', 'B', 'EY0', 'T'], 'syllables': 3, 'frequency': <class 'int'>}, {'word': 'abbatiello', 'phonemes': ['AA0', 'B', 'AA0', 'T', 'IY0', 'EH1', 'L', 'OW0'], 'syllables': 4, 'frequency': <class 'int'>}, {'word': 'abbe', 'phonemes': ['AE1', 'B', 'IY0'], 'syllables': 2, 'frequency': <class 'int'>}, {'word': 'abbe', 'phonemes': ['AE0', 'B', 'EY1'], 'syllables': 2, 'frequency': <class 'int'>}]\n"
     ]
    }
   ],
   "source": [
    "print(corpus[0:100])"
   ]
  }
 ],
 "metadata": {
  "kernelspec": {
   "display_name": "Python 3.10.6 ('.venv': venv)",
   "language": "python",
   "name": "python3"
  },
  "language_info": {
   "codemirror_mode": {
    "name": "ipython",
    "version": 3
   },
   "file_extension": ".py",
   "mimetype": "text/x-python",
   "name": "python",
   "nbconvert_exporter": "python",
   "pygments_lexer": "ipython3",
   "version": "3.10.6"
  },
  "orig_nbformat": 4,
  "vscode": {
   "interpreter": {
    "hash": "21f0f0be0688a17ea75b18f1362c994815826a995d097a537ac83deae9236c53"
   }
  }
 },
 "nbformat": 4,
 "nbformat_minor": 2
}
